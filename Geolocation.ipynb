{
 "cells": [
  {
   "cell_type": "code",
   "execution_count": 2,
   "metadata": {},
   "outputs": [],
   "source": [
    "import pandas as pd\n",
    "import geopandas as gpd\n",
    "import matplotlib.pyplot as plt"
   ]
  },
  {
   "cell_type": "markdown",
   "metadata": {},
   "source": [
    "## Geolocation_dataset"
   ]
  },
  {
   "cell_type": "markdown",
   "metadata": {},
   "source": [
    "Read files csv"
   ]
  },
  {
   "cell_type": "code",
   "execution_count": 3,
   "metadata": {},
   "outputs": [],
   "source": [
    "df_geo = pd.read_csv('data/geolocation.csv')"
   ]
  },
  {
   "cell_type": "code",
   "execution_count": 4,
   "metadata": {},
   "outputs": [],
   "source": [
    "df_customer = pd.read_csv('data/customers.csv')"
   ]
  },
  {
   "cell_type": "code",
   "execution_count": 5,
   "metadata": {},
   "outputs": [],
   "source": [
    "df_orders = pd.read_csv('data/orders.csv')"
   ]
  },
  {
   "cell_type": "code",
   "execution_count": 6,
   "metadata": {},
   "outputs": [],
   "source": [
    "df_geo = df_geo.loc[:, ['geolocation_zip_code_prefix', 'geolocation_lat', 'geolocation_lng', 'geolocation_state']]"
   ]
  },
  {
   "cell_type": "code",
   "execution_count": 7,
   "metadata": {},
   "outputs": [],
   "source": [
    "df_geo = df_geo.rename(columns={\"geolocation_zip_code_prefix\": \"zip_code_prefix\"})"
   ]
  },
  {
   "cell_type": "code",
   "execution_count": 8,
   "metadata": {},
   "outputs": [],
   "source": [
    "df_customer = df_customer.loc[:, ['customer_id', 'customer_zip_code_prefix', 'customer_state']]"
   ]
  },
  {
   "cell_type": "code",
   "execution_count": 9,
   "metadata": {},
   "outputs": [],
   "source": [
    "df_customer = df_customer.rename(columns={\"customer_zip_code_prefix\": \"zip_code_prefix\"})"
   ]
  },
  {
   "cell_type": "markdown",
   "metadata": {},
   "source": [
    "Join df_customer + df_geo"
   ]
  },
  {
   "cell_type": "code",
   "execution_count": 10,
   "metadata": {},
   "outputs": [],
   "source": [
    "#df_g_c = df_customer.join(df_geo, on='zip_code_prefix', how = 'left', lsuffix = '_left', rsuffix = '_right')\n",
    "df_g_c = df_customer.join(df_geo.set_index('zip_code_prefix'), on='zip_code_prefix')\n",
    "#df_g_c[df_g_c['customer_id']=='06b8999e2fba1a1fbc88172c00ba8bc7']"
   ]
  },
  {
   "cell_type": "code",
   "execution_count": 11,
   "metadata": {},
   "outputs": [],
   "source": [
    "df_orders = df_orders.loc[:, ['order_id', 'customer_id', 'order_status']]"
   ]
  },
  {
   "cell_type": "markdown",
   "metadata": {},
   "source": [
    "### geolocation_state code"
   ]
  },
  {
   "cell_type": "markdown",
   "metadata": {},
   "source": [
    "Read map (.gpkg)"
   ]
  },
  {
   "cell_type": "code",
   "execution_count": 12,
   "metadata": {},
   "outputs": [],
   "source": [
    "info = gpd.read_file('bcim_2016_21_11_2018.gpkg', layer = 'lim_unidade_federacao_a')\n",
    "info = info.rename(columns={\"sigla\": \"geolocation_state\"})"
   ]
  },
  {
   "cell_type": "code",
   "execution_count": 13,
   "metadata": {},
   "outputs": [],
   "source": [
    "df_map = df_g_c.join(info.set_index('geolocation_state'), on='geolocation_state')\n"
   ]
  },
  {
   "cell_type": "code",
   "execution_count": 14,
   "metadata": {},
   "outputs": [],
   "source": [
    "dfm = df_map[['customer_id', 'geolocation_state', 'geometry']]"
   ]
  },
  {
   "cell_type": "code",
   "execution_count": 15,
   "metadata": {},
   "outputs": [],
   "source": [
    "dfm_group = dfm.groupby('geolocation_state').apply(lambda x: x.iloc[0])"
   ]
  },
  {
   "cell_type": "code",
   "execution_count": 16,
   "metadata": {},
   "outputs": [],
   "source": [
    "dfm_group = dfm_group.reset_index(drop=True)"
   ]
  },
  {
   "cell_type": "code",
   "execution_count": 17,
   "metadata": {},
   "outputs": [],
   "source": [
    "dfm_group = dfm_group.rename(columns={\"geolocation_state\": \"geo\"})"
   ]
  },
  {
   "cell_type": "code",
   "execution_count": 18,
   "metadata": {},
   "outputs": [],
   "source": [
    "df_map_count = df_map.groupby('geolocation_state').count()"
   ]
  },
  {
   "cell_type": "code",
   "execution_count": 19,
   "metadata": {},
   "outputs": [],
   "source": [
    "df_map_customer = pd.DataFrame(df_map_count.iloc[:,0]).reset_index()"
   ]
  },
  {
   "cell_type": "code",
   "execution_count": 20,
   "metadata": {},
   "outputs": [],
   "source": [
    "df_map_customer['geometry'] = ''"
   ]
  },
  {
   "cell_type": "markdown",
   "metadata": {},
   "source": [
    "Fare join tra geolocation_state e sigla"
   ]
  },
  {
   "cell_type": "code",
   "execution_count": 21,
   "metadata": {},
   "outputs": [],
   "source": [
    "df_mapping = df_map_customer.merge(dfm_group, on=df_map_customer.index)\n",
    "df_mapping = df_mapping.rename(columns={'customer_id_x':'customer_count', 'geometry_y':'geometry'})\n",
    "df_mapping = df_mapping[['geolocation_state', 'customer_count', 'geometry']]"
   ]
  },
  {
   "cell_type": "code",
   "execution_count": 22,
   "metadata": {},
   "outputs": [],
   "source": [
    "from shapely.geometry import Polygon"
   ]
  },
  {
   "cell_type": "code",
   "execution_count": 23,
   "metadata": {},
   "outputs": [],
   "source": [
    "df_mapping['geometry'] = gpd.GeoSeries(df_mapping.iloc[:,2])"
   ]
  },
  {
   "cell_type": "code",
   "execution_count": 24,
   "metadata": {},
   "outputs": [
    {
     "data": {
      "text/html": [
       "<div>\n",
       "<style scoped>\n",
       "    .dataframe tbody tr th:only-of-type {\n",
       "        vertical-align: middle;\n",
       "    }\n",
       "\n",
       "    .dataframe tbody tr th {\n",
       "        vertical-align: top;\n",
       "    }\n",
       "\n",
       "    .dataframe thead th {\n",
       "        text-align: right;\n",
       "    }\n",
       "</style>\n",
       "<table border=\"1\" class=\"dataframe\">\n",
       "  <thead>\n",
       "    <tr style=\"text-align: right;\">\n",
       "      <th></th>\n",
       "      <th>geolocation_state</th>\n",
       "      <th>customer_count</th>\n",
       "      <th>geometry</th>\n",
       "    </tr>\n",
       "  </thead>\n",
       "  <tbody>\n",
       "    <tr>\n",
       "      <th>0</th>\n",
       "      <td>SP</td>\n",
       "      <td>5620430</td>\n",
       "      <td>MULTIPOLYGON (((-45.01051 -23.76176, -45.01624...</td>\n",
       "    </tr>\n",
       "    <tr>\n",
       "      <th>1</th>\n",
       "      <td>RJ</td>\n",
       "      <td>3015690</td>\n",
       "      <td>MULTIPOLYGON (((-41.70343 -22.42014, -41.70380...</td>\n",
       "    </tr>\n",
       "    <tr>\n",
       "      <th>2</th>\n",
       "      <td>MG</td>\n",
       "      <td>2878728</td>\n",
       "      <td>MULTIPOLYGON (((-44.21152 -14.22955, -44.20750...</td>\n",
       "    </tr>\n",
       "    <tr>\n",
       "      <th>3</th>\n",
       "      <td>RS</td>\n",
       "      <td>805370</td>\n",
       "      <td>MULTIPOLYGON (((-53.03425 -27.15455, -53.03079...</td>\n",
       "    </tr>\n",
       "    <tr>\n",
       "      <th>4</th>\n",
       "      <td>PR</td>\n",
       "      <td>626021</td>\n",
       "      <td>MULTIPOLYGON (((-52.08090 -22.52893, -52.04903...</td>\n",
       "    </tr>\n",
       "  </tbody>\n",
       "</table>\n",
       "</div>"
      ],
      "text/plain": [
       "  geolocation_state  customer_count  \\\n",
       "0                SP         5620430   \n",
       "1                RJ         3015690   \n",
       "2                MG         2878728   \n",
       "3                RS          805370   \n",
       "4                PR          626021   \n",
       "\n",
       "                                            geometry  \n",
       "0  MULTIPOLYGON (((-45.01051 -23.76176, -45.01624...  \n",
       "1  MULTIPOLYGON (((-41.70343 -22.42014, -41.70380...  \n",
       "2  MULTIPOLYGON (((-44.21152 -14.22955, -44.20750...  \n",
       "3  MULTIPOLYGON (((-53.03425 -27.15455, -53.03079...  \n",
       "4  MULTIPOLYGON (((-52.08090 -22.52893, -52.04903...  "
      ]
     },
     "execution_count": 24,
     "metadata": {},
     "output_type": "execute_result"
    }
   ],
   "source": [
    "df_mapping = df_mapping.sort_values(by='customer_count', ascending=False).reset_index(drop=True)\n",
    "df_mapping.head()"
   ]
  },
  {
   "cell_type": "code",
   "execution_count": 25,
   "metadata": {},
   "outputs": [],
   "source": [
    "serie = pd.Series((df_mapping.iloc[:,1]).values, index = df_mapping['geolocation_state'])\n",
    "a = list(serie[:10].index)"
   ]
  },
  {
   "cell_type": "markdown",
   "metadata": {},
   "source": [
    "Contare il numero di ordini in base al geolocation_state e sfumare le aree"
   ]
  },
  {
   "cell_type": "code",
   "execution_count": 26,
   "metadata": {},
   "outputs": [],
   "source": [
    "gdf = gpd.GeoDataFrame(df_mapping, geometry='geometry')"
   ]
  },
  {
   "cell_type": "markdown",
   "metadata": {},
   "source": [
    "Dataframe finale"
   ]
  },
  {
   "cell_type": "code",
   "execution_count": 27,
   "metadata": {},
   "outputs": [
    {
     "data": {
      "text/html": [
       "<div>\n",
       "<style scoped>\n",
       "    .dataframe tbody tr th:only-of-type {\n",
       "        vertical-align: middle;\n",
       "    }\n",
       "\n",
       "    .dataframe tbody tr th {\n",
       "        vertical-align: top;\n",
       "    }\n",
       "\n",
       "    .dataframe thead th {\n",
       "        text-align: right;\n",
       "    }\n",
       "</style>\n",
       "<table border=\"1\" class=\"dataframe\">\n",
       "  <thead>\n",
       "    <tr style=\"text-align: right;\">\n",
       "      <th></th>\n",
       "      <th>geolocation_state</th>\n",
       "      <th>customer_count</th>\n",
       "      <th>geometry</th>\n",
       "    </tr>\n",
       "  </thead>\n",
       "  <tbody>\n",
       "    <tr>\n",
       "      <th>0</th>\n",
       "      <td>SP</td>\n",
       "      <td>5620430</td>\n",
       "      <td>MULTIPOLYGON (((-45.01051 -23.76176, -45.01624...</td>\n",
       "    </tr>\n",
       "    <tr>\n",
       "      <th>1</th>\n",
       "      <td>RJ</td>\n",
       "      <td>3015690</td>\n",
       "      <td>MULTIPOLYGON (((-41.70343 -22.42014, -41.70380...</td>\n",
       "    </tr>\n",
       "    <tr>\n",
       "      <th>2</th>\n",
       "      <td>MG</td>\n",
       "      <td>2878728</td>\n",
       "      <td>MULTIPOLYGON (((-44.21152 -14.22955, -44.20750...</td>\n",
       "    </tr>\n",
       "    <tr>\n",
       "      <th>3</th>\n",
       "      <td>RS</td>\n",
       "      <td>805370</td>\n",
       "      <td>MULTIPOLYGON (((-53.03425 -27.15455, -53.03079...</td>\n",
       "    </tr>\n",
       "    <tr>\n",
       "      <th>4</th>\n",
       "      <td>PR</td>\n",
       "      <td>626021</td>\n",
       "      <td>MULTIPOLYGON (((-52.08090 -22.52893, -52.04903...</td>\n",
       "    </tr>\n",
       "    <tr>\n",
       "      <th>5</th>\n",
       "      <td>SC</td>\n",
       "      <td>538638</td>\n",
       "      <td>MULTIPOLYGON (((-48.63761 -25.97490, -48.63504...</td>\n",
       "    </tr>\n",
       "    <tr>\n",
       "      <th>6</th>\n",
       "      <td>BA</td>\n",
       "      <td>365875</td>\n",
       "      <td>MULTIPOLYGON (((-38.97119 -8.78270, -38.95972 ...</td>\n",
       "    </tr>\n",
       "    <tr>\n",
       "      <th>7</th>\n",
       "      <td>ES</td>\n",
       "      <td>316654</td>\n",
       "      <td>MULTIPOLYGON (((-40.47978 -17.91795, -40.46958...</td>\n",
       "    </tr>\n",
       "    <tr>\n",
       "      <th>8</th>\n",
       "      <td>GO</td>\n",
       "      <td>133146</td>\n",
       "      <td>MULTIPOLYGON (((-50.15876 -12.41581, -50.15743...</td>\n",
       "    </tr>\n",
       "    <tr>\n",
       "      <th>9</th>\n",
       "      <td>MT</td>\n",
       "      <td>122395</td>\n",
       "      <td>MULTIPOLYGON (((-60.10041 -12.91271, -60.09773...</td>\n",
       "    </tr>\n",
       "    <tr>\n",
       "      <th>10</th>\n",
       "      <td>PE</td>\n",
       "      <td>114588</td>\n",
       "      <td>MULTIPOLYGON (((-32.38846 -3.81629, -32.39054 ...</td>\n",
       "    </tr>\n",
       "    <tr>\n",
       "      <th>11</th>\n",
       "      <td>DF</td>\n",
       "      <td>93309</td>\n",
       "      <td>MULTIPOLYGON (((-47.94846 -15.49916, -47.91366...</td>\n",
       "    </tr>\n",
       "    <tr>\n",
       "      <th>12</th>\n",
       "      <td>PA</td>\n",
       "      <td>83554</td>\n",
       "      <td>MULTIPOLYGON (((-46.25020 -1.13999, -46.25285 ...</td>\n",
       "    </tr>\n",
       "    <tr>\n",
       "      <th>13</th>\n",
       "      <td>CE</td>\n",
       "      <td>63507</td>\n",
       "      <td>MULTIPOLYGON (((-40.42389 -2.81130, -40.41525 ...</td>\n",
       "    </tr>\n",
       "    <tr>\n",
       "      <th>14</th>\n",
       "      <td>MS</td>\n",
       "      <td>61473</td>\n",
       "      <td>MULTIPOLYGON (((-56.09815 -17.17220, -56.09159...</td>\n",
       "    </tr>\n",
       "    <tr>\n",
       "      <th>15</th>\n",
       "      <td>MA</td>\n",
       "      <td>53383</td>\n",
       "      <td>MULTIPOLYGON (((-42.03760 -2.70322, -42.04097 ...</td>\n",
       "    </tr>\n",
       "    <tr>\n",
       "      <th>16</th>\n",
       "      <td>AL</td>\n",
       "      <td>34861</td>\n",
       "      <td>MULTIPOLYGON (((-35.45878 -8.81780, -35.45898 ...</td>\n",
       "    </tr>\n",
       "    <tr>\n",
       "      <th>17</th>\n",
       "      <td>PB</td>\n",
       "      <td>27714</td>\n",
       "      <td>MULTIPOLYGON (((-37.21443 -6.03725, -37.20704 ...</td>\n",
       "    </tr>\n",
       "    <tr>\n",
       "      <th>18</th>\n",
       "      <td>SE</td>\n",
       "      <td>24584</td>\n",
       "      <td>MULTIPOLYGON (((-38.00366 -9.51544, -38.00052 ...</td>\n",
       "    </tr>\n",
       "    <tr>\n",
       "      <th>19</th>\n",
       "      <td>PI</td>\n",
       "      <td>23913</td>\n",
       "      <td>MULTIPOLYGON (((-41.73344 -2.81111, -41.73205 ...</td>\n",
       "    </tr>\n",
       "    <tr>\n",
       "      <th>20</th>\n",
       "      <td>RO</td>\n",
       "      <td>21244</td>\n",
       "      <td>MULTIPOLYGON (((-62.79892 -8.02312, -62.78622 ...</td>\n",
       "    </tr>\n",
       "    <tr>\n",
       "      <th>21</th>\n",
       "      <td>RN</td>\n",
       "      <td>20595</td>\n",
       "      <td>MULTIPOLYGON (((-35.20267 -5.74677, -35.20324 ...</td>\n",
       "    </tr>\n",
       "    <tr>\n",
       "      <th>22</th>\n",
       "      <td>TO</td>\n",
       "      <td>17509</td>\n",
       "      <td>MULTIPOLYGON (((-48.34644 -5.17871, -48.34311 ...</td>\n",
       "    </tr>\n",
       "    <tr>\n",
       "      <th>23</th>\n",
       "      <td>AC</td>\n",
       "      <td>7688</td>\n",
       "      <td>MULTIPOLYGON (((-73.73811 -7.13471, -72.90246 ...</td>\n",
       "    </tr>\n",
       "    <tr>\n",
       "      <th>24</th>\n",
       "      <td>AM</td>\n",
       "      <td>5587</td>\n",
       "      <td>MULTIPOLYGON (((-67.32285 2.04176, -67.29220 1...</td>\n",
       "    </tr>\n",
       "    <tr>\n",
       "      <th>25</th>\n",
       "      <td>AP</td>\n",
       "      <td>4912</td>\n",
       "      <td>MULTIPOLYGON (((-51.18178 3.90573, -51.13631 3...</td>\n",
       "    </tr>\n",
       "    <tr>\n",
       "      <th>26</th>\n",
       "      <td>RR</td>\n",
       "      <td>2087</td>\n",
       "      <td>MULTIPOLYGON (((-60.17793 5.23024, -60.16619 5...</td>\n",
       "    </tr>\n",
       "  </tbody>\n",
       "</table>\n",
       "</div>"
      ],
      "text/plain": [
       "   geolocation_state  customer_count  \\\n",
       "0                 SP         5620430   \n",
       "1                 RJ         3015690   \n",
       "2                 MG         2878728   \n",
       "3                 RS          805370   \n",
       "4                 PR          626021   \n",
       "5                 SC          538638   \n",
       "6                 BA          365875   \n",
       "7                 ES          316654   \n",
       "8                 GO          133146   \n",
       "9                 MT          122395   \n",
       "10                PE          114588   \n",
       "11                DF           93309   \n",
       "12                PA           83554   \n",
       "13                CE           63507   \n",
       "14                MS           61473   \n",
       "15                MA           53383   \n",
       "16                AL           34861   \n",
       "17                PB           27714   \n",
       "18                SE           24584   \n",
       "19                PI           23913   \n",
       "20                RO           21244   \n",
       "21                RN           20595   \n",
       "22                TO           17509   \n",
       "23                AC            7688   \n",
       "24                AM            5587   \n",
       "25                AP            4912   \n",
       "26                RR            2087   \n",
       "\n",
       "                                             geometry  \n",
       "0   MULTIPOLYGON (((-45.01051 -23.76176, -45.01624...  \n",
       "1   MULTIPOLYGON (((-41.70343 -22.42014, -41.70380...  \n",
       "2   MULTIPOLYGON (((-44.21152 -14.22955, -44.20750...  \n",
       "3   MULTIPOLYGON (((-53.03425 -27.15455, -53.03079...  \n",
       "4   MULTIPOLYGON (((-52.08090 -22.52893, -52.04903...  \n",
       "5   MULTIPOLYGON (((-48.63761 -25.97490, -48.63504...  \n",
       "6   MULTIPOLYGON (((-38.97119 -8.78270, -38.95972 ...  \n",
       "7   MULTIPOLYGON (((-40.47978 -17.91795, -40.46958...  \n",
       "8   MULTIPOLYGON (((-50.15876 -12.41581, -50.15743...  \n",
       "9   MULTIPOLYGON (((-60.10041 -12.91271, -60.09773...  \n",
       "10  MULTIPOLYGON (((-32.38846 -3.81629, -32.39054 ...  \n",
       "11  MULTIPOLYGON (((-47.94846 -15.49916, -47.91366...  \n",
       "12  MULTIPOLYGON (((-46.25020 -1.13999, -46.25285 ...  \n",
       "13  MULTIPOLYGON (((-40.42389 -2.81130, -40.41525 ...  \n",
       "14  MULTIPOLYGON (((-56.09815 -17.17220, -56.09159...  \n",
       "15  MULTIPOLYGON (((-42.03760 -2.70322, -42.04097 ...  \n",
       "16  MULTIPOLYGON (((-35.45878 -8.81780, -35.45898 ...  \n",
       "17  MULTIPOLYGON (((-37.21443 -6.03725, -37.20704 ...  \n",
       "18  MULTIPOLYGON (((-38.00366 -9.51544, -38.00052 ...  \n",
       "19  MULTIPOLYGON (((-41.73344 -2.81111, -41.73205 ...  \n",
       "20  MULTIPOLYGON (((-62.79892 -8.02312, -62.78622 ...  \n",
       "21  MULTIPOLYGON (((-35.20267 -5.74677, -35.20324 ...  \n",
       "22  MULTIPOLYGON (((-48.34644 -5.17871, -48.34311 ...  \n",
       "23  MULTIPOLYGON (((-73.73811 -7.13471, -72.90246 ...  \n",
       "24  MULTIPOLYGON (((-67.32285 2.04176, -67.29220 1...  \n",
       "25  MULTIPOLYGON (((-51.18178 3.90573, -51.13631 3...  \n",
       "26  MULTIPOLYGON (((-60.17793 5.23024, -60.16619 5...  "
      ]
     },
     "execution_count": 27,
     "metadata": {},
     "output_type": "execute_result"
    }
   ],
   "source": [
    "gdf"
   ]
  },
  {
   "cell_type": "markdown",
   "metadata": {},
   "source": [
    "## Map"
   ]
  },
  {
   "cell_type": "code",
   "execution_count": 30,
   "metadata": {},
   "outputs": [
    {
     "data": {
      "text/plain": [
       "<BarContainer object of 10 artists>"
      ]
     },
     "execution_count": 30,
     "metadata": {},
     "output_type": "execute_result"
    },
    {
     "data": {
      "image/png": "[encoded data removed]",
      "text/plain": [
       "<Figure size 936x936 with 4 Axes>"
      ]
     },
     "metadata": {
      "needs_background": "light"
     },
     "output_type": "display_data"
    }
   ],
   "source": [
    "import matplotlib.gridspec as gridspec\n",
    "\n",
    "fig = plt.figure(tight_layout=True,figsize=(13,13))\n",
    "gs = gridspec.GridSpec(2, 2)\n",
    "\n",
    "ax1 = fig.add_subplot(gs[0, 0])\n",
    "ax2 = fig.add_subplot(gs[0, 1])\n",
    "ax3 = fig.add_subplot(gs[1, :])\n",
    "\n",
    "ax1.set_title(\"Customers' distribution (26 federated states)\")\n",
    "ax2.set_title('Top ten')\n",
    "ax3.set_title('Top ten (Bar plot)')\n",
    "\n",
    "from mpl_toolkits.axes_grid1 import make_axes_locatable\n",
    "divider = make_axes_locatable(ax1)\n",
    "cax = divider.append_axes(\"right\", size=\"5%\", pad=0.1)\n",
    "gdf.plot(ax=ax1, column=serie, legend=True, vmin = 0, vmax = 7000000,\n",
    "         edgecolor='black',legend_kwds={'label': 'Customer count'}, cax=cax, cmap='Purples')\n",
    "gdf[:10].plot(ax=ax2, column=gdf.iloc[:10,0], categorical=True, edgecolor='black', legend=True, cmap='Purples')\n",
    "ax3.bar(df_mapping.iloc[:10,0], df_mapping.iloc[:10,1], color = '#52228B', label='Pay')"
   ]
  },
  {
   "cell_type": "code",
   "execution_count": null,
   "metadata": {},
   "outputs": [],
   "source": []
  }
 ],
 "metadata": {
  "kernelspec": {
   "display_name": "Python 3",
   "language": "python",
   "name": "python3"
  },
  "language_info": {
   "codemirror_mode": {
    "name": "ipython",
    "version": 3
   },
   "file_extension": ".py",
   "mimetype": "text/x-python",
   "name": "python",
   "nbconvert_exporter": "python",
   "pygments_lexer": "ipython3",
   "version": "3.8.6"
  }
 },
 "nbformat": 4,
 "nbformat_minor": 4
}
